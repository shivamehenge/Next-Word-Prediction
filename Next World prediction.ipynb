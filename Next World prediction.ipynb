{
 "cells": [
  {
   "cell_type": "markdown",
   "id": "1cf59414",
   "metadata": {},
   "source": [
    "# LetsGrowMore (LGM) - virtual internship program"
   ]
  },
  {
   "cell_type": "markdown",
   "id": "d7e07c68",
   "metadata": {},
   "source": [
    "# Name: Shiva Dagdu Mehenge"
   ]
  },
  {
   "cell_type": "markdown",
   "id": "fa57635c",
   "metadata": {},
   "source": [
    "# Data Science Intern"
   ]
  },
  {
   "cell_type": "markdown",
   "id": "f55cfed2",
   "metadata": {},
   "source": [
    "# Task:- Next Word Prediction:"
   ]
  },
  {
   "cell_type": "code",
   "execution_count": null,
   "id": "087f7a75",
   "metadata": {},
   "outputs": [],
   "source": [
    "import numpy as np\n",
    "\n",
    "lexicon = {}\n",
    "\n",
    "def update_lexicon(current : str, next_word : str) -> None:\n",
    "    # Add the input word to the lexicon if it in there yet.\n",
    "    if current not in lexicon:\n",
    "        lexicon.update({current: {next_word: 1} })\n",
    "        return\n",
    "\n",
    "    # Recieve te probabilties of the input word.\n",
    "    options = lexicon[current]\n",
    "\n",
    "    # Check if the output word is in the propability list.\n",
    "    if next_word not in options:\n",
    "        options.update({next_word : 1})\n",
    "    else:\n",
    "        options.update({next_word : options[next_word] + 1})\n",
    "\n",
    "    # Update the lexicon\n",
    "    lexicon[current] = options"
   ]
  },
  {
   "cell_type": "markdown",
   "id": "affc7e8f",
   "metadata": {},
   "source": [
    "# Load Dataset"
   ]
  },
  {
   "cell_type": "code",
   "execution_count": 3,
   "id": "179dd089",
   "metadata": {},
   "outputs": [],
   "source": [
    "with open('C:\\\\Users\\\\Shivv\\\\dataset.txt', 'r', encoding ='ISO-8859-1') as dataset:\n",
    "    for line in dataset:\n",
    "        words = line.strip().split(' ')\n",
    "        for i in range(len(words) - 1):\n",
    "            update_lexicon(words[i], words[i+1])"
   ]
  },
  {
   "cell_type": "markdown",
   "id": "982054c8",
   "metadata": {},
   "source": [
    "# Train Model | Predicting the next Word"
   ]
  },
  {
   "cell_type": "code",
   "execution_count": 8,
   "id": "9ac41afb",
   "metadata": {},
   "outputs": [
    {
     "name": "stdout",
     "output_type": "stream",
     "text": [
      "> i love of my\n",
      "i love of my confidence.\n"
     ]
    }
   ],
   "source": [
    "for word, transition in lexicon.items():\n",
    "    transition = dict((key, value / sum(transition.values())) for key, value in transition.items())\n",
    "    lexicon[word] = transition\n",
    "    \n",
    "line = input('> ')\n",
    "word = line.strip().split(' ')[-1]\n",
    "if word not in lexicon:\n",
    "    print('Word not found')\n",
    "else:\n",
    "    options = lexicon[word]\n",
    "    predicted = np.random.choice(list(options.keys()), p=list(options.values()))\n",
    "    print(line + ' ' + predicted)"
   ]
  },
  {
   "cell_type": "code",
   "execution_count": null,
   "id": "2ff8d81b",
   "metadata": {},
   "outputs": [],
   "source": []
  }
 ],
 "metadata": {
  "kernelspec": {
   "display_name": "Python 3 (ipykernel)",
   "language": "python",
   "name": "python3"
  },
  "language_info": {
   "codemirror_mode": {
    "name": "ipython",
    "version": 3
   },
   "file_extension": ".py",
   "mimetype": "text/x-python",
   "name": "python",
   "nbconvert_exporter": "python",
   "pygments_lexer": "ipython3",
   "version": "3.9.12"
  }
 },
 "nbformat": 4,
 "nbformat_minor": 5
}
